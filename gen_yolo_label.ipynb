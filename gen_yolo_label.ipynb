{
 "cells": [
  {
   "cell_type": "code",
   "execution_count": 1,
   "metadata": {},
   "outputs": [],
   "source": [
    "import os\n",
    "import pandas as pd\n",
    "from tqdm import tqdm \n",
    "import cv2 \n",
    "import matplotlib.pyplot as plt\n",
    "import json"
   ]
  },
  {
   "cell_type": "code",
   "execution_count": 2,
   "metadata": {},
   "outputs": [],
   "source": [
    "train_path = 'labels/detection20/det_v2_train_release.json'\n",
    "val_path = 'labels/detection20/det_v2_val_release.json'\n",
    "\n",
    "with open(train_path, 'r') as f:\n",
    "    data = json.load(f)"
   ]
  },
  {
   "cell_type": "code",
   "execution_count": 3,
   "metadata": {},
   "outputs": [],
   "source": [
    "names = [\n",
    "    'bicycle',\n",
    "    'bus',\n",
    "    'car',\n",
    "    'motorcycle',\n",
    "    'other person',\n",
    "    'other vehicle',\n",
    "    'pedestrian',\n",
    "    'rider',\n",
    "    'traffic light',\n",
    "    'traffic sign',\n",
    "    'trailer',\n",
    "    'train',\n",
    "    'truck'\n",
    "]\n",
    "\n",
    "outdir = 'yolo_labels/100k/train/'\n",
    "HEIGHT = 720\n",
    "WIDTH = 1280"
   ]
  },
  {
   "cell_type": "code",
   "execution_count": 5,
   "metadata": {},
   "outputs": [],
   "source": [
    "for image in data:\n",
    "    name = image['name']\n",
    "    labels = image['labels']\n",
    "    \n",
    "    if None == labels:\n",
    "        continue\n",
    "\n",
    "    objs = []\n",
    "    \n",
    "    for label in labels:\n",
    "        o = []\n",
    "        box = label['box2d']\n",
    "\n",
    "        o.append(names.index(label['category'])) # object id\n",
    "        left, top, right, bottom = box['x1'], box['y1'], box['x2'], box['y2']\n",
    "        x = (left + right)/2/WIDTH\n",
    "        y = (top+bottom)/2/HEIGHT\n",
    "        w = (right-left)/WIDTH\n",
    "        h = (bottom-top)/HEIGHT\n",
    "\n",
    "        o.append(x) # x\n",
    "        o.append(y) # y\n",
    "        o.append(w) # width\n",
    "        o.append(h) # height\n",
    "\n",
    "        objs.append(o)\n",
    "        \n",
    "        \n",
    "    content=[]\n",
    "    for o in objs:\n",
    "        l = ' '.join([str(i) for i in o])\n",
    "        content.append(l)\n",
    "\n",
    "    # print(content)\n",
    "    content = '\\n'.join(content)\n",
    "    # print(content)\n",
    "        \n",
    "    filename = name.replace('.png', '.txt').replace('.jpg', '.txt')\n",
    "    with open(outdir+filename, 'w') as f:\n",
    "        f.write(content)\n",
    "          \n",
    "\n"
   ]
  },
  {
   "cell_type": "code",
   "execution_count": 7,
   "metadata": {},
   "outputs": [
    {
     "name": "stdout",
     "output_type": "stream",
     "text": [
      "69853\n"
     ]
    }
   ],
   "source": [
    "!ls yolo_labels/100k/train/ | wc -l"
   ]
  },
  {
   "cell_type": "code",
   "execution_count": 8,
   "metadata": {},
   "outputs": [
    {
     "name": "stdout",
     "output_type": "stream",
     "text": [
      "70000\n"
     ]
    }
   ],
   "source": [
    "!ls images/100k/train/ | wc -l"
   ]
  },
  {
   "cell_type": "code",
   "execution_count": 14,
   "metadata": {},
   "outputs": [
    {
     "name": "stdout",
     "output_type": "stream",
     "text": [
      "10000\n"
     ]
    }
   ],
   "source": [
    "!ls yolo_labels/100k/val/ | wc -l"
   ]
  },
  {
   "cell_type": "code",
   "execution_count": 13,
   "metadata": {},
   "outputs": [
    {
     "name": "stdout",
     "output_type": "stream",
     "text": [
      "10000\n"
     ]
    }
   ],
   "source": [
    "!ls images/100k/val/ | wc -l"
   ]
  },
  {
   "cell_type": "code",
   "execution_count": null,
   "metadata": {},
   "outputs": [],
   "source": []
  }
 ],
 "metadata": {
  "kernelspec": {
   "display_name": "Python 3",
   "language": "python",
   "name": "python3"
  },
  "language_info": {
   "codemirror_mode": {
    "name": "ipython",
    "version": 3
   },
   "file_extension": ".py",
   "mimetype": "text/x-python",
   "name": "python",
   "nbconvert_exporter": "python",
   "pygments_lexer": "ipython3",
   "version": "3.7.4"
  }
 },
 "nbformat": 4,
 "nbformat_minor": 4
}
