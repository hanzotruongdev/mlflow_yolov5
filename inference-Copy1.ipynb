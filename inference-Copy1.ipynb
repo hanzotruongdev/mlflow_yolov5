{
 "cells": [
  {
   "cell_type": "code",
   "execution_count": null,
   "metadata": {},
   "outputs": [],
   "source": [
    "\"\"\"\n",
    "Inference code for YOLOv5\n",
    "Offline evaluation pipeline\n",
    "\"\"\""
   ]
  },
  {
   "cell_type": "code",
   "execution_count": 2,
   "metadata": {},
   "outputs": [],
   "source": [
    "import argparse\n",
    "import glob\n",
    "import json\n",
    "import os\n",
    "from pathlib import Path\n",
    "\n",
    "import numpy as np\n",
    "import torch\n",
    "import torch.nn as nn\n",
    "import yaml\n",
    "from tqdm import tqdm\n",
    "\n",
    "from models.experimental import attempt_load\n",
    "from utils.datasets import create_dataloader\n",
    "from utils.general import coco80_to_coco91_class, check_dataset, check_file, check_img_size, box_iou, \\\n",
    "    non_max_suppression, scale_coords, xyxy2xywh, xywh2xyxy, set_logging, increment_path\n",
    "from utils.loss import compute_loss\n",
    "from utils.metrics import ap_per_class, ConfusionMatrix\n",
    "from utils.plots import plot_images, output_to_target, plot_study_txt\n",
    "from utils.torch_utils import select_device, time_synchronized\n",
    "from models.common import Conv, DWConv\n",
    "from collections import namedtuple\n",
    "\n",
    "# from IPython.core.interactiveshell import InteractiveShell\n",
    "# InteractiveShell.ast_node_interactivity = 'all'"
   ]
  },
  {
   "cell_type": "code",
   "execution_count": 3,
   "metadata": {},
   "outputs": [],
   "source": [
    "data_yaml   = 'data/bdd100k.yaml'\n",
    "weight = 'runs/train/exp11/weights/best.pt'\n",
    "batch_size = 32\n",
    "imgsz=640\n",
    "device='cuda:0'\n",
    "opt = {\n",
    "    \"task\": 'test',\n",
    "    \"conf_thres\": 0.001,\n",
    "    \"iou_thres\": 0.6,\n",
    "    \"augment\": False,\n",
    "    \"verbose\": False,\n",
    "    \"save_txt\": False,\n",
    "    \"save_conf\": False,\n",
    "    \"save_json\": False,\n",
    "    \"single_cls\": False,\n",
    "}\n",
    "opt = namedtuple(\"Opt\", opt.keys())(*opt.values())"
   ]
  },
  {
   "cell_type": "code",
   "execution_count": 4,
   "metadata": {},
   "outputs": [
    {
     "name": "stdout",
     "output_type": "stream",
     "text": [
      "Fusing layers... \n"
     ]
    }
   ],
   "source": [
    "# load model\n",
    "model = torch.load(weight, map_location='cuda:0')['model'].float().fuse().eval()"
   ]
  },
  {
   "cell_type": "code",
   "execution_count": 5,
   "metadata": {},
   "outputs": [],
   "source": [
    "# Compatibility updates\n",
    "for m in model.modules():\n",
    "    if type(m) in [nn.Hardswish, nn.LeakyReLU, nn.ReLU, nn.ReLU6]:\n",
    "        m.inplace = True  # pytorch 1.7.0 compatibility\n",
    "    elif type(m) is Conv:\n",
    "        m._non_persistent_buffers_set = set()  # pytorch 1.6.0 compatibility\n",
    "        \n",
    "_ = model.half()\n",
    "_ = model.eval()"
   ]
  },
  {
   "cell_type": "code",
   "execution_count": 6,
   "metadata": {},
   "outputs": [
    {
     "name": "stderr",
     "output_type": "stream",
     "text": [
      "Scanning '/raid/noitq/bdd100k/labels/100k/val.cache' for images and labels... 10000 found, 0 missing, 0 empty, 0 corrupted: 100%|██████████| 10000/10000 [00:00<?, ?it/s]\n"
     ]
    }
   ],
   "source": [
    "# load data\n",
    "with open(data_yaml) as f:\n",
    "    data = yaml.load(f, Loader=yaml.FullLoader)  # model dict\n",
    "    \n",
    "nc = data['nc']  # number of classes\n",
    "iouv = torch.linspace(0.5, 0.95, 10).to(device)  # iou vector for mAP@0.5:0.95\n",
    "niou = iouv.numel()\n",
    "\n",
    "\n",
    "# Dataloader\n",
    "img = torch.zeros((1, 3, imgsz, imgsz), device=device)  # init img\n",
    "_ = model(img.half()) # run once\n",
    "path = data['test']\n",
    "dataloader = create_dataloader(path, imgsz, batch_size, model.stride.max(), opt, pad=0.5, rect=True)[0]"
   ]
  },
  {
   "cell_type": "code",
   "execution_count": 7,
   "metadata": {},
   "outputs": [],
   "source": [
    "# define metrics\n",
    "confusion_matrix = ConfusionMatrix(nc=nc)\n",
    "names = {k: v for k, v in enumerate(model.names)}\n",
    "s = ('%20s' + '%12s' * 6) % ('Class', 'Images', 'Targets', 'P', 'R', 'mAP@.5', 'mAP@.5:.95')\n",
    "p, r, f1, mp, mr, map50, map, t0, t1 = 0., 0., 0., 0., 0., 0., 0., 0., 0.\n",
    "stats = []\n",
    "seen = 0"
   ]
  },
  {
   "cell_type": "code",
   "execution_count": 8,
   "metadata": {},
   "outputs": [
    {
     "name": "stderr",
     "output_type": "stream",
     "text": [
      "               Class      Images     Targets           P           R      mAP@.5  mAP@.5:.95: 100%|██████████| 313/313 [01:37<00:00,  3.21it/s]\n"
     ]
    }
   ],
   "source": [
    "# run inference\n",
    "for batch_i, (img, targets, paths, shapes) in enumerate(tqdm(dataloader, desc=s)):\n",
    "    img = img.to(device, non_blocking=True)\n",
    "    img = img.half() # uint8 to fp16/32\n",
    "    img /= 255.0  # 0 - 255 to 0.0 - 1.0\n",
    "    targets = targets.to(device)\n",
    "    nb, _, height, width = img.shape  # batch size, channels, height, width\n",
    "\n",
    "    with torch.no_grad():\n",
    "        # Run model\n",
    "        t = time_synchronized()\n",
    "        inf_out, train_out = model(img, augment=opt.augment)  # inference and training outputs\n",
    "        t0 += time_synchronized() - t\n",
    "        \n",
    "        # Run NMS\n",
    "        targets[:, 2:] *= torch.Tensor([width, height, width, height]).to(device)  # to pixels\n",
    "        lb = [targets[targets[:, 0] == i, 1:] for i in range(nb)] if opt.save_txt else []  # for autolabelling\n",
    "        t = time_synchronized()\n",
    "        output = non_max_suppression(inf_out, conf_thres=opt.conf_thres, iou_thres=opt.iou_thres, labels=lb)\n",
    "        t1 += time_synchronized() - t\n",
    "        \n",
    "    # Statistics per image\n",
    "    for si, pred in enumerate(output):\n",
    "        labels = targets[targets[:, 0] == si, 1:]\n",
    "        nl = len(labels)\n",
    "        tcls = labels[:, 0].tolist() if nl else []  # target class\n",
    "        path = Path(paths[si])\n",
    "        seen += 1\n",
    "\n",
    "        if len(pred) == 0:\n",
    "            if nl:\n",
    "                stats.append((torch.zeros(0, niou, dtype=torch.bool), torch.Tensor(), torch.Tensor(), tcls))\n",
    "            continue\n",
    "            \n",
    "        # Predictions\n",
    "        predn = pred.clone()\n",
    "        scale_coords(img[si].shape[1:], predn[:, :4], shapes[si][0], shapes[si][1])  # native-space pred\n",
    "        \n",
    "        # Assign all predictions as incorrect\n",
    "        correct = torch.zeros(pred.shape[0], niou, dtype=torch.bool, device=device)\n",
    "        if nl:\n",
    "            detected = []  # target indices\n",
    "            tcls_tensor = labels[:, 0]\n",
    "\n",
    "            # target boxes\n",
    "            tbox = xywh2xyxy(labels[:, 1:5])\n",
    "            scale_coords(img[si].shape[1:], tbox, shapes[si][0], shapes[si][1])  # native-space labels\n",
    "\n",
    "            # Per target class\n",
    "            for cls in torch.unique(tcls_tensor):\n",
    "                ti = (cls == tcls_tensor).nonzero(as_tuple=False).view(-1)  # prediction indices\n",
    "                pi = (cls == pred[:, 5]).nonzero(as_tuple=False).view(-1)  # target indices\n",
    "\n",
    "                # Search for detections\n",
    "                if pi.shape[0]:\n",
    "                    # Prediction to target ious\n",
    "                    ious, i = box_iou(predn[pi, :4], tbox[ti]).max(1)  # best ious, indices\n",
    "\n",
    "                    # Append detections\n",
    "                    detected_set = set()\n",
    "                    for j in (ious > iouv[0]).nonzero(as_tuple=False):\n",
    "                        d = ti[i[j]]  # detected target\n",
    "                        if d.item() not in detected_set:\n",
    "                            detected_set.add(d.item())\n",
    "                            detected.append(d)\n",
    "                            correct[pi[j]] = ious[j] > iouv  # iou_thres is 1xn\n",
    "                            if len(detected) == nl:  # all targets already located in image\n",
    "                                break\n",
    "\n",
    "        # Append statistics (correct, conf, pcls, tcls)\n",
    "        stats.append((correct.cpu(), pred[:, 4].cpu(), pred[:, 5].cpu(), tcls))\n",
    "        \n",
    "\n",
    "# Compute statistics\n",
    "stats = [np.concatenate(x, 0) for x in zip(*stats)]  # to numpy"
   ]
  },
  {
   "cell_type": "code",
   "execution_count": 9,
   "metadata": {},
   "outputs": [
    {
     "name": "stdout",
     "output_type": "stream",
     "text": [
      "f1: \n",
      " [[    0.35587     0.35587     0.35587     0.35587     0.35587     0.35587     0.35587     0.35587     0.35587     0.35587]\n",
      " [    0.49245     0.49245     0.49245     0.49245     0.49245     0.49245     0.49245     0.49245     0.49245     0.49245]\n",
      " [    0.65009     0.65009     0.65009     0.65009     0.65009     0.65009     0.65009     0.65009     0.65009     0.65009]\n",
      " [    0.43087     0.43087     0.43087     0.43087     0.43087     0.43087     0.43087     0.43087     0.43087     0.43087]\n",
      " [          0           0           0           0           0           0           0           0           0           0]\n",
      " [   0.094746    0.094746    0.094746    0.094746    0.094746    0.094746    0.094746    0.094746    0.094746    0.094746]\n",
      " [    0.48781     0.48781     0.48781     0.48781     0.48781     0.48781     0.48781     0.48781     0.48781     0.48781]\n",
      " [     0.3731      0.3731      0.3731      0.3731      0.3731      0.3731      0.3731      0.3731      0.3731      0.3731]\n",
      " [    0.55351     0.55351     0.55351     0.55351     0.55351     0.55351     0.55351     0.55351     0.55351     0.55351]\n",
      " [    0.58185     0.58185     0.58185     0.58185     0.58185     0.58185     0.58185     0.58185     0.58185     0.58185]\n",
      " [          0           0           0           0           0           0           0           0           0           0]\n",
      " [          0           0           0           0           0           0           0           0           0           0]\n",
      " [    0.52018     0.52018     0.52018     0.52018     0.52018     0.52018     0.52018     0.52018     0.52018     0.52018]]\n",
      "p: \n",
      " [[    0.25442     0.25442     0.25442     0.25442     0.25442     0.25442     0.25442     0.25442     0.25442     0.25442]\n",
      " [    0.37912     0.37912     0.37912     0.37912     0.37912     0.37912     0.37912     0.37912     0.37912     0.37912]\n",
      " [    0.54255     0.54255     0.54255     0.54255     0.54255     0.54255     0.54255     0.54255     0.54255     0.54255]\n",
      " [    0.35786     0.35786     0.35786     0.35786     0.35786     0.35786     0.35786     0.35786     0.35786     0.35786]\n",
      " [          0           0           0           0           0           0           0           0           0           0]\n",
      " [    0.11153     0.11153     0.11153     0.11153     0.11153     0.11153     0.11153     0.11153     0.11153     0.11153]\n",
      " [    0.38081     0.38081     0.38081     0.38081     0.38081     0.38081     0.38081     0.38081     0.38081     0.38081]\n",
      " [    0.29293     0.29293     0.29293     0.29293     0.29293     0.29293     0.29293     0.29293     0.29293     0.29293]\n",
      " [    0.45394     0.45394     0.45394     0.45394     0.45394     0.45394     0.45394     0.45394     0.45394     0.45394]\n",
      " [    0.47783     0.47783     0.47783     0.47783     0.47783     0.47783     0.47783     0.47783     0.47783     0.47783]\n",
      " [          0           0           0           0           0           0           0           0           0           0]\n",
      " [          0           0           0           0           0           0           0           0           0           0]\n",
      " [    0.40211     0.40211     0.40211     0.40211     0.40211     0.40211     0.40211     0.40211     0.40211     0.40211]]\n",
      "r: \n",
      " [[    0.59192     0.59192     0.59192     0.59192     0.59192     0.59192     0.59192     0.59192     0.59192     0.59192]\n",
      " [    0.70241     0.70241     0.70241     0.70241     0.70241     0.70241     0.70241     0.70241     0.70241     0.70241]\n",
      " [    0.81082     0.81082     0.81082     0.81082     0.81082     0.81082     0.81082     0.81082     0.81082     0.81082]\n",
      " [     0.5413      0.5413      0.5413      0.5413      0.5413      0.5413      0.5413      0.5413      0.5413      0.5413]\n",
      " [          0           0           0           0           0           0           0           0           0           0]\n",
      " [   0.082353    0.082353    0.082353    0.082353    0.082353    0.082353    0.082353    0.082353    0.082353    0.082353]\n",
      " [    0.67844     0.67844     0.67844     0.67844     0.67844     0.67844     0.67844     0.67844     0.67844     0.67844]\n",
      " [    0.51368     0.51368     0.51368     0.51368     0.51368     0.51368     0.51368     0.51368     0.51368     0.51368]\n",
      " [    0.70905     0.70905     0.70905     0.70905     0.70905     0.70905     0.70905     0.70905     0.70905     0.70905]\n",
      " [    0.74375     0.74375     0.74375     0.74375     0.74375     0.74375     0.74375     0.74375     0.74375     0.74375]\n",
      " [          0           0           0           0           0           0           0           0           0           0]\n",
      " [          0           0           0           0           0           0           0           0           0           0]\n",
      " [    0.73641     0.73641     0.73641     0.73641     0.73641     0.73641     0.73641     0.73641     0.73641     0.73641]]\n",
      "ap: \n",
      " [[    0.47666     0.42608     0.37278     0.32029     0.25059     0.17977     0.10266    0.045389     0.01666   0.0013246]\n",
      " [    0.62805     0.61731     0.60715      0.5879     0.55936     0.52805     0.48718     0.41112     0.28103    0.090349]\n",
      " [    0.79865      0.7517     0.70265     0.64809     0.58914     0.52261     0.44553     0.35529     0.23591    0.074932]\n",
      " [    0.44679     0.41223     0.35915     0.31795     0.26243     0.19071     0.10542    0.035329   0.0080322  0.00012545]\n",
      " [          0           0           0           0           0           0           0           0           0           0]\n",
      " [     0.0339    0.031576    0.028352    0.027659    0.019325    0.018352    0.015107    0.014763   0.0080456   0.0022235]\n",
      " [     0.6136     0.56053     0.50505     0.43412     0.34628      0.2518     0.15169    0.068667    0.013314   0.0014552]\n",
      " [    0.44132     0.41335     0.37775     0.32678     0.25882     0.16718    0.097802    0.043311   0.0088856  0.00068565]\n",
      " [    0.63358     0.53695     0.43092     0.32184     0.22085     0.12723    0.059366    0.019599   0.0034513   0.0002156]\n",
      " [     0.6846     0.64405     0.59106      0.5234     0.43619     0.32969     0.21818     0.11508    0.037346   0.0062483]\n",
      " [          0           0           0           0           0           0           0           0           0           0]\n",
      " [          0           0           0           0           0           0           0           0           0           0]\n",
      " [    0.64562     0.63297     0.61587     0.59217     0.55916      0.5168     0.45999     0.36712     0.22464    0.049087]]\n",
      "ap50: \n",
      " [    0.47666     0.62805     0.79865     0.44679           0      0.0339      0.6136     0.44132     0.63358      0.6846           0           0     0.64562]\n",
      "ap: \n",
      " [    0.21922     0.47975     0.51245     0.21382           0     0.01993     0.29465     0.21359      0.2354     0.35859           0           0     0.46634]\n",
      "mp: \n",
      " 0.2810062424935451\n",
      "               Class      Images     Targets           P           R      mAP@.5  mAP@.5:.95\n",
      "                 all       1e+04    1.86e+05       0.281        0.47       0.416       0.232\n",
      "Speed: 2.9/1.0/3.9 ms inference/NMS/total per 640x640 image at batch-size 32\n"
     ]
    }
   ],
   "source": [
    "\n",
    "if len(stats) and stats[0].any():\n",
    "    p, r, ap, f1, ap_class = ap_per_class(*stats, plot=None, save_dir=None, names=names)\n",
    "    print('f1: \\n', f1)\n",
    "    print('p: \\n', p)\n",
    "    print('r: \\n', r)\n",
    "    print('ap: \\n', ap)\n",
    "    p, r, f1, ap50, ap = p[:, 0], r[:, 0], f1[:,0], ap[:, 0], ap.mean(1)  # [P, R, AP@0.5, AP@0.5:0.95]\n",
    "    print('ap50: \\n', ap50)\n",
    "    print('ap: \\n', ap)\n",
    "    mp, mr, mf1, map50, map = p.mean(), r.mean(), f1.mean(), ap50.mean(), ap.mean()\n",
    "    print('mp: \\n', mp)\n",
    "    nt = np.bincount(stats[3].astype(np.int64), minlength=nc)  # number of targets per class\n",
    "else:\n",
    "    nt = torch.zeros(1)\n",
    "    \n",
    "# Print results\n",
    "print(s)\n",
    "pf = '%20s' + '%12.3g' * 6  # print format\n",
    "print(pf % ('all', seen, nt.sum(), mp, mr, map50, map))\n",
    "\n",
    "\n",
    "# Print speeds\n",
    "t = tuple(x / seen * 1E3 for x in (t0, t1, t0 + t1)) + (imgsz, imgsz, batch_size)  # tuple\n",
    "print('Speed: %.1f/%.1f/%.1f ms inference/NMS/total per %gx%g image at batch-size %g' % t)"
   ]
  },
  {
   "cell_type": "code",
   "execution_count": 10,
   "metadata": {},
   "outputs": [
    {
     "name": "stdout",
     "output_type": "stream",
     "text": [
      "f1:  0.3492666129115888\n"
     ]
    }
   ],
   "source": [
    "print('f1: ', mf1)"
   ]
  },
  {
   "cell_type": "code",
   "execution_count": 11,
   "metadata": {},
   "outputs": [
    {
     "data": {
      "text/plain": [
       "0.3558765659191342"
      ]
     },
     "execution_count": 11,
     "metadata": {},
     "output_type": "execute_result"
    }
   ],
   "source": [
    "tp = 0.25442     \n",
    "tr = 0.59192     \n",
    "\n",
    "2*tp * tr/(tp+tr)"
   ]
  },
  {
   "cell_type": "code",
   "execution_count": null,
   "metadata": {},
   "outputs": [],
   "source": []
  }
 ],
 "metadata": {
  "kernelspec": {
   "display_name": "Python 3",
   "language": "python",
   "name": "python3"
  },
  "language_info": {
   "codemirror_mode": {
    "name": "ipython",
    "version": 3
   },
   "file_extension": ".py",
   "mimetype": "text/x-python",
   "name": "python",
   "nbconvert_exporter": "python",
   "pygments_lexer": "ipython3",
   "version": "3.7.4"
  }
 },
 "nbformat": 4,
 "nbformat_minor": 4
}
